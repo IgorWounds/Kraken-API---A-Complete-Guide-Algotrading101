{
 "cells": [
  {
   "cell_type": "code",
   "execution_count": 2,
   "metadata": {},
   "outputs": [],
   "source": [
    "import krakenex\n",
    "from pykrakenapi import KrakenAPI\n",
    "from time import sleep\n",
    "import pandas as pd\n",
    "kraken = krakenex.API()\n",
    "k = KrakenAPI(kraken)"
   ]
  },
  {
   "cell_type": "code",
   "execution_count": 8,
   "metadata": {
    "collapsed": true
   },
   "outputs": [
    {
     "ename": "Exception",
     "evalue": "Either key or secret is not set! (Use `load_key()`.",
     "output_type": "error",
     "traceback": [
      "\u001b[1;31m---------------------------------------------------------------------------\u001b[0m",
      "\u001b[1;31mException\u001b[0m                                 Traceback (most recent call last)",
      "\u001b[1;32m<ipython-input-8-45e11c12278f>\u001b[0m in \u001b[0;36m<module>\u001b[1;34m\u001b[0m\n\u001b[0;32m     19\u001b[0m \u001b[1;33m\u001b[0m\u001b[0m\n\u001b[0;32m     20\u001b[0m \u001b[1;32mif\u001b[0m \u001b[0m__name__\u001b[0m \u001b[1;33m==\u001b[0m \u001b[1;34m'__main__'\u001b[0m\u001b[1;33m:\u001b[0m\u001b[1;33m\u001b[0m\u001b[1;33m\u001b[0m\u001b[0m\n\u001b[1;32m---> 21\u001b[1;33m     \u001b[0mret\u001b[0m \u001b[1;33m=\u001b[0m \u001b[0mmain\u001b[0m\u001b[1;33m(\u001b[0m\u001b[1;33m)\u001b[0m\u001b[1;33m\u001b[0m\u001b[1;33m\u001b[0m\u001b[0m\n\u001b[0m\u001b[0;32m     22\u001b[0m     \u001b[0mprint\u001b[0m\u001b[1;33m(\u001b[0m\u001b[0mret\u001b[0m\u001b[1;33m)\u001b[0m\u001b[1;33m\u001b[0m\u001b[1;33m\u001b[0m\u001b[0m\n",
      "\u001b[1;32m<ipython-input-8-45e11c12278f>\u001b[0m in \u001b[0;36mmain\u001b[1;34m()\u001b[0m\n\u001b[0;32m      3\u001b[0m     \u001b[1;31m#kraken.load_key('kraken.key')\u001b[0m\u001b[1;33m\u001b[0m\u001b[1;33m\u001b[0m\u001b[1;33m\u001b[0m\u001b[0m\n\u001b[0;32m      4\u001b[0m \u001b[1;33m\u001b[0m\u001b[0m\n\u001b[1;32m----> 5\u001b[1;33m     response = kraken.query_private('AddOrder',\n\u001b[0m\u001b[0;32m      6\u001b[0m                                     {'pair': 'XXBTZEUR',\n\u001b[0;32m      7\u001b[0m                                      \u001b[1;34m'type'\u001b[0m\u001b[1;33m:\u001b[0m \u001b[1;34m'buy'\u001b[0m\u001b[1;33m,\u001b[0m\u001b[1;33m\u001b[0m\u001b[1;33m\u001b[0m\u001b[0m\n",
      "\u001b[1;32m~\\anaconda3\\lib\\site-packages\\krakenex\\api.py\u001b[0m in \u001b[0;36mquery_private\u001b[1;34m(self, method, data, timeout)\u001b[0m\n\u001b[0;32m    180\u001b[0m \u001b[1;33m\u001b[0m\u001b[0m\n\u001b[0;32m    181\u001b[0m         \u001b[1;32mif\u001b[0m \u001b[1;32mnot\u001b[0m \u001b[0mself\u001b[0m\u001b[1;33m.\u001b[0m\u001b[0mkey\u001b[0m \u001b[1;32mor\u001b[0m \u001b[1;32mnot\u001b[0m \u001b[0mself\u001b[0m\u001b[1;33m.\u001b[0m\u001b[0msecret\u001b[0m\u001b[1;33m:\u001b[0m\u001b[1;33m\u001b[0m\u001b[1;33m\u001b[0m\u001b[0m\n\u001b[1;32m--> 182\u001b[1;33m             \u001b[1;32mraise\u001b[0m \u001b[0mException\u001b[0m\u001b[1;33m(\u001b[0m\u001b[1;34m'Either key or secret is not set! (Use `load_key()`.'\u001b[0m\u001b[1;33m)\u001b[0m\u001b[1;33m\u001b[0m\u001b[1;33m\u001b[0m\u001b[0m\n\u001b[0m\u001b[0;32m    183\u001b[0m \u001b[1;33m\u001b[0m\u001b[0m\n\u001b[0;32m    184\u001b[0m         \u001b[0mdata\u001b[0m\u001b[1;33m[\u001b[0m\u001b[1;34m'nonce'\u001b[0m\u001b[1;33m]\u001b[0m \u001b[1;33m=\u001b[0m \u001b[0mself\u001b[0m\u001b[1;33m.\u001b[0m\u001b[0m_nonce\u001b[0m\u001b[1;33m(\u001b[0m\u001b[1;33m)\u001b[0m\u001b[1;33m\u001b[0m\u001b[1;33m\u001b[0m\u001b[0m\n",
      "\u001b[1;31mException\u001b[0m: Either key or secret is not set! (Use `load_key()`."
     ]
    }
   ],
   "source": [
    "def main():\n",
    "    kraken.load_key('kraken.key')\n",
    "\n",
    "    response = kraken.query_private('AddOrder',\n",
    "                                    {'pair': 'ETHUSD',\n",
    "                                     'type': 'buy',\n",
    "                                     'ordertype': 'market',\n",
    "                                     'volume': '1',\n",
    "                                    })\n",
    "    return response\n",
    "\n",
    "if __name__ == '__main__':\n",
    "    order = main()\n",
    "    print(order)"
   ]
  },
  {
   "cell_type": "code",
   "execution_count": null,
   "metadata": {},
   "outputs": [],
   "source": [
    "while True:\n",
    "    try:\n",
    "        btc_old = k.get_ticker_information('BTCUSD')\n",
    "        print(float(ticker.a[0][0]))\n",
    "    except Exception as e:\n",
    "        print('Error obtaining BTC old data')\n",
    "    \n",
    "    sleep(300)\n",
    "    \n",
    "    try:\n",
    "        btc_new = k.get_ticker_information('BTCUSD')\n",
    "        print(float(ticker.a[0][0]))\n",
    "    except Exception as e:\n",
    "        print('Error obtaining BTC old data')\n",
    "    \n",
    "    percent = (((float(btc_new.a[0][0]) - float(btc_old.a[0][0])) * 100) / float(btc_old.a[0][0]))    \n",
    "    \n",
    "    if percent >= 5:\n",
    "        try:\n",
    "            if __name__ == '__main__':\n",
    "                order = main()\n",
    "                print(order)\n",
    "        except Exception as e:\n",
    "            print('Error making order request')\n",
    "        \n",
    "        sleep(2)\n",
    "        \n",
    "        try:\n",
    "            order_check = kraken.get_open_orders(userref = order['txid'])\n",
    "            print(order_check)\n",
    "        except Exception as e:\n",
    "            print('Error checking for order status')\n",
    "        \n",
    "        if order_check['status'] == 'open':\n",
    "            print ('Order placed at {}'.format(pd.Timestamp.now()))\n",
    "            break\n",
    "        else:\n",
    "            print('Order was canceled {}'.format(pd.Timestamp.now()))\n",
    "            break\n",
    "    else:\n",
    "        print('The trade requirement was not satisfied. The percentage move is at ',percent)\n",
    "        sleep(10)\n",
    "        continue"
   ]
  }
 ],
 "metadata": {
  "kernelspec": {
   "display_name": "Python 3",
   "language": "python",
   "name": "python3"
  },
  "language_info": {
   "codemirror_mode": {
    "name": "ipython",
    "version": 3
   },
   "file_extension": ".py",
   "mimetype": "text/x-python",
   "name": "python",
   "nbconvert_exporter": "python",
   "pygments_lexer": "ipython3",
   "version": "3.8.3"
  }
 },
 "nbformat": 4,
 "nbformat_minor": 4
}
