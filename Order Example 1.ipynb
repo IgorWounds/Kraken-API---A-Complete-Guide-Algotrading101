{
 "cells": [
  {
   "cell_type": "code",
   "execution_count": null,
   "id": "8b7dd717",
   "metadata": {},
   "outputs": [],
   "source": [
    "from time import sleep\n",
    "import krakenex\n",
    "from pykrakenapi import KrakenAPI\n",
    "api = krakenex.API()\n",
    "kraken = KrakenAPI(api)\n",
    "\n",
    "api.load_key('KrakenPass.txt')\n",
    "\n",
    "while True:\n",
    "    \n",
    "    try:\n",
    "        BTC_old = float((kraken.get_ticker_information('BTCUSD'))['b'][0][0])\n",
    "    except exception as e:\n",
    "        print(f'Unable to obtain BTC data: {e}')\n",
    "    \n",
    "    sleep(60)\n",
    "    \n",
    "    try:\n",
    "        BTC_new = float((kraken.get_ticker_information('BTCUSD'))['b'][0][0])\n",
    "    except exception as e:\n",
    "        print(f'Unable to obtain BTC data: {e}')\n",
    "    \n",
    "    percent = ((BTC_new - BTC_old)*100) / BTC_old\n",
    "    \n",
    "    if percent >= 5:\n",
    "        try:\n",
    "            ETH = float((kraken.get_ticker_information('ETHUSD'))['a'][0][0]) + 2\n",
    "            \n",
    "            response = kraken.add_standard_order(pair='ETHUSD', type='buy', ordertype='limit', \n",
    "                                                 volume='0.007', price=ETH, validate=False)\n",
    "            print(response)\n",
    "        except exception as e:\n",
    "            print(f'Error placing order: {e}')\n",
    "    \n",
    "        sleep(3)\n",
    "    \n",
    "        check_order = kraken.query_orders_info(response['txid'][0])\n",
    "    \n",
    "        if check_order['status'][0] == 'open' or 'closed':\n",
    "            print('Order completed sucessfully')\n",
    "            break\n",
    "        else:\n",
    "            print('Order rejected')\n",
    "            break\n",
    "    else:\n",
    "        print('Requirement not reached')"
   ]
  }
 ],
 "metadata": {
  "kernelspec": {
   "display_name": "Python 3",
   "language": "python",
   "name": "python3"
  },
  "language_info": {
   "codemirror_mode": {
    "name": "ipython",
    "version": 3
   },
   "file_extension": ".py",
   "mimetype": "text/x-python",
   "name": "python",
   "nbconvert_exporter": "python",
   "pygments_lexer": "ipython3",
   "version": "3.8.3"
  }
 },
 "nbformat": 4,
 "nbformat_minor": 5
}
